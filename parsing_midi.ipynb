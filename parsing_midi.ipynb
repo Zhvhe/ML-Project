{
 "cells": [
  {
   "cell_type": "code",
   "execution_count": null,
   "metadata": {},
   "outputs": [],
   "source": [
    "import glob\n",
    "import pickle\n",
    "import numpy\n",
    "from music21 import converter, instrument, note, chord"
   ]
  },
  {
   "cell_type": "code",
   "execution_count": null,
   "metadata": {},
   "outputs": [],
   "source": [
    "#path to input training data, songs\n",
    "midi_path = \"midi_songs\"\n",
    "#path to notes notefile\n",
    "notes_path = \"notes_olivia_quarter_length\""
   ]
  },
  {
   "cell_type": "code",
   "execution_count": null,
   "metadata": {},
   "outputs": [],
   "source": [
    "#This section is for reading in the midi file into python\n",
    "def get_notes():\n",
    "    notes = []\n",
    "\n",
    "    for file in glob.glob(midi_path+\"/*.mid\"):\n",
    "        midi = converter.parse(file)\n",
    "\n",
    "        #print(\"Parsing %s\" % file)\n",
    "\n",
    "        notes_to_parse = None\n",
    "\n",
    "        #check if file has instrument parts\n",
    "        try: # file has instrument parts\n",
    "            s2 = instrument.partitionByInstrument(midi)\n",
    "            notes_to_parse = s2.parts[0].recurse() \n",
    "        except: # file has notes in a flat structure\n",
    "            notes_to_parse = midi.flat.notes\n",
    "\n",
    "        for element in notes_to_parse:\n",
    "            #check to see if this is a note or chord\n",
    "            if isinstance(element, note.Note):\n",
    "                notes.append(str(element.pitch) + \"-\" + str(element.quarterLength))\n",
    "            elif isinstance(element, chord.Chord):\n",
    "                notes.append('.'.join(str(n) for n in element.normalOrder) + \"-\" + str(element.quarterLength))\n",
    "\n",
    "    with open(\"data/\"+notes_path, 'wb') as filepath:\n",
    "        pickle.dump(notes, filepath)\n",
    "\n",
    "    return notes"
   ]
  },
  {
   "cell_type": "code",
   "execution_count": null,
   "metadata": {},
   "outputs": [],
   "source": [
    "#This section creates the set of input notes sequences\n",
    "def prepare_sequence_in(notes, n_vocab, sequence_length):\n",
    "\n",
    "    # get all pitch names\n",
    "    pitchnames = sorted(set(item for item in notes))\n",
    "\n",
    "    # map between notes and integers and back\n",
    "    note_to_int = dict((note, number) for number, note in enumerate(pitchnames))\n",
    "\n",
    "    network_input = []\n",
    "    for i in range(0, len(notes) - sequence_length, 1):\n",
    "        sequence_in = notes[i:i + sequence_length]\n",
    "        network_input.append([note_to_int[char] for char in sequence_in])\n",
    "\n",
    "    n_patterns = len(network_input)\n",
    "\n",
    "    # reshape the input into a format compatible with LSTM layers\n",
    "    normalized_input = numpy.reshape(network_input, (n_patterns, sequence_length, 1))\n",
    "    # normalize input\n",
    "    normalized_input = normalized_input / float(n_vocab)\n",
    "\n",
    "    return (network_input, normalized_input)"
   ]
  },
  {
   "cell_type": "code",
   "execution_count": null,
   "metadata": {},
   "outputs": [],
   "source": [
    "#This section is for reading in the midi file into python\n",
    "def get_notes_for_one_song(song):\n",
    "    song_notes = []\n",
    "    midi = converter.parse(midi_path+'/'+song+\".mid\")\n",
    "    notes_to_parse = None\n",
    "\n",
    "    #check if file has instrument parts\n",
    "    try: # file has instrument parts\n",
    "        s2 = instrument.partitionByInstrument(midi)\n",
    "        notes_to_parse = s2.parts[0].recurse() \n",
    "    except: # file has notes in a flat structure\n",
    "        notes_to_parse = midi.flat.notes\n",
    "\n",
    "    offset_m = 0.0\n",
    "    offest_c = 0.0\n",
    "    for element in notes_to_parse:\n",
    "        #check to see if this is a note or chord\n",
    "        if isinstance(element, note.Note):\n",
    "            song_notes.append(str(element.pitch) + \"-\" + str(element.quarterLength))\n",
    "            #print(str(element.pitch) + \"-\" + str(element.quarterLength))\n",
    "        elif isinstance(element, chord.Chord):\n",
    "            song_notes.append('.'.join(str(n) for n in element.normalOrder) + \"-\" + str(element.quarterLength))\n",
    "            #print(str('.'.join(str(n) for n in element.normalOrder)) + \"-\" + str(element.quarterLength))\n",
    "            \n",
    "    return song_notes"
   ]
  },
  {
   "cell_type": "code",
   "execution_count": null,
   "metadata": {},
   "outputs": [],
   "source": [
    "#This section creates the set of input notes sequences\n",
    "def prepare_melody_in(notes, n_vocab, song):\n",
    "\n",
    "    song_notes = get_notes_for_one_song(song)\n",
    "    \n",
    "    # get all pitch names\n",
    "    pitchnames = sorted(set(item for item in notes))\n",
    "\n",
    "    # map between notes and integers and back\n",
    "    note_to_int = dict((note, number) for number, note in enumerate(pitchnames))\n",
    "    \n",
    "    input_song = [note_to_int[char] for char in song_notes]\n",
    "\n",
    "    return input_song"
   ]
  },
  {
   "cell_type": "code",
   "execution_count": null,
   "metadata": {},
   "outputs": [],
   "source": [
    "#gt_notes()\n"
   ]
  },
  {
   "cell_type": "code",
   "execution_count": null,
   "metadata": {},
   "outputs": [],
   "source": []
  }
 ],
 "metadata": {
  "kernelspec": {
   "display_name": "Python 3",
   "language": "python",
   "name": "python3"
  },
  "language_info": {
   "codemirror_mode": {
    "name": "ipython",
    "version": 3
   },
   "file_extension": ".py",
   "mimetype": "text/x-python",
   "name": "python",
   "nbconvert_exporter": "python",
   "pygments_lexer": "ipython3",
   "version": "3.5.6"
  }
 },
 "nbformat": 4,
 "nbformat_minor": 4
}
