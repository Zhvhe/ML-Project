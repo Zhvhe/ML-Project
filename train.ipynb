{
 "cells": [
  {
   "cell_type": "code",
   "execution_count": 7,
   "metadata": {},
   "outputs": [],
   "source": [
    "import numpy\n",
    "from keras.utils import np_utils\n",
    "from keras.callbacks import ModelCheckpoint\n",
    "\n",
    "import parsing_midi\n",
    "import models"
   ]
  },
  {
   "cell_type": "code",
   "execution_count": 8,
   "metadata": {},
   "outputs": [],
   "source": [
    "#number of training runs through model \n",
    "epochs = 200\n",
    "#size of batch of inputs per epoch\n",
    "epoch_size = 64\n",
    "#path to put the weight files\n",
    "weightpath = \"oivia_run_0\"\n",
    "#length of input sequence of notes to generate the next note\n",
    "sequence_length = 100"
   ]
  },
  {
   "cell_type": "code",
   "execution_count": 9,
   "metadata": {},
   "outputs": [],
   "source": [
    "#This section creates the set of output notes\n",
    "def prepare_sequence_out(notes, n_vocab):\n",
    "    # get all pitch names\n",
    "    pitchnames = sorted(set(item for item in notes))\n",
    "\n",
    "     # create a dictionary to map pitches to integers\n",
    "    note_to_int = dict((note, number) for number, note in enumerate(pitchnames))\n",
    "\n",
    "    network_output = []\n",
    "\n",
    "    # create the outputs\n",
    "    for i in range(0, len(notes) - sequence_length, 1):\n",
    "        sequence_out = notes[i + sequence_length]\n",
    "        network_output.append(note_to_int[sequence_out])\n",
    "\n",
    "    network_output = np_utils.to_categorical(network_output)\n",
    "\n",
    "    return network_output"
   ]
  },
  {
   "cell_type": "code",
   "execution_count": 10,
   "metadata": {},
   "outputs": [],
   "source": [
    "#This section trains the model\n",
    "def train(model, network_input, network_output):\n",
    "    #save checkpoints every epoch run\n",
    "    filepath = weightpath+\"weights-improvement-{epoch:02d}-{loss:.4f}-bigger.hdf5\"\n",
    "    checkpoint = ModelCheckpoint(\n",
    "        filepath,\n",
    "        monitor='loss',\n",
    "        verbose=0,\n",
    "        save_best_only=True,\n",
    "        mode='min'\n",
    "    )\n",
    "    callbacks_list = [checkpoint]\n",
    "\n",
    "    model.fit(network_input, network_output, epochs=epochs, batch_size=epoch_size, callbacks=callbacks_list)"
   ]
  },
  {
   "cell_type": "code",
   "execution_count": 11,
   "metadata": {},
   "outputs": [],
   "source": [
    "#Main function to cover grabbing the data to training the model\n",
    "#sets up parameters to train the network and then runs\n",
    "def train_network():\n",
    "    notes = parsing_midi.get_notes()\n",
    "\n",
    "    # get amount of pitch names\n",
    "    n_vocab = len(set(notes))\n",
    "\n",
    "    #get inputs and outputs\n",
    "    network_input, normalized_input = parsing_midi.prepare_sequence_in(notes, n_vocab, sequence_length)\n",
    "    network_output = prepare_sequence_out(notes, n_vocab)\n",
    "\n",
    "    model = models.create_lstm_network(normalized_input, n_vocab)\n",
    "\n",
    "    train(model, normalized_input, network_output)"
   ]
  },
  {
   "cell_type": "code",
   "execution_count": null,
   "metadata": {},
   "outputs": [],
   "source": [
    "#if called from commandline, this should just try training the network\n",
    "#if called in a notebook, will just run\n",
    "if __name__ == '__main__':\n",
    "    train_network()"
   ]
  },
  {
   "cell_type": "code",
   "execution_count": null,
   "metadata": {},
   "outputs": [],
   "source": []
  }
 ],
 "metadata": {
  "kernelspec": {
   "display_name": "Python 3",
   "language": "python",
   "name": "python3"
  },
  "language_info": {
   "codemirror_mode": {
    "name": "ipython",
    "version": 3
   },
   "file_extension": ".py",
   "mimetype": "text/x-python",
   "name": "python",
   "nbconvert_exporter": "python",
   "pygments_lexer": "ipython3",
   "version": "3.5.6"
  }
 },
 "nbformat": 4,
 "nbformat_minor": 4
}
