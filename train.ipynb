{
 "cells": [
  {
   "cell_type": "code",
   "execution_count": 1,
   "metadata": {},
   "outputs": [
    {
     "name": "stderr",
     "output_type": "stream",
     "text": [
      "Using TensorFlow backend.\n",
      "/home/ozmitche/anaconda3/envs/tensorflow_cpu_old/lib/python3.5/site-packages/tensorflow/python/framework/dtypes.py:469: FutureWarning: Passing (type, 1) or '1type' as a synonym of type is deprecated; in a future version of numpy, it will be understood as (type, (1,)) / '(1,)type'.\n",
      "  _np_qint8 = np.dtype([(\"qint8\", np.int8, 1)])\n",
      "/home/ozmitche/anaconda3/envs/tensorflow_cpu_old/lib/python3.5/site-packages/tensorflow/python/framework/dtypes.py:470: FutureWarning: Passing (type, 1) or '1type' as a synonym of type is deprecated; in a future version of numpy, it will be understood as (type, (1,)) / '(1,)type'.\n",
      "  _np_quint8 = np.dtype([(\"quint8\", np.uint8, 1)])\n",
      "/home/ozmitche/anaconda3/envs/tensorflow_cpu_old/lib/python3.5/site-packages/tensorflow/python/framework/dtypes.py:471: FutureWarning: Passing (type, 1) or '1type' as a synonym of type is deprecated; in a future version of numpy, it will be understood as (type, (1,)) / '(1,)type'.\n",
      "  _np_qint16 = np.dtype([(\"qint16\", np.int16, 1)])\n",
      "/home/ozmitche/anaconda3/envs/tensorflow_cpu_old/lib/python3.5/site-packages/tensorflow/python/framework/dtypes.py:472: FutureWarning: Passing (type, 1) or '1type' as a synonym of type is deprecated; in a future version of numpy, it will be understood as (type, (1,)) / '(1,)type'.\n",
      "  _np_quint16 = np.dtype([(\"quint16\", np.uint16, 1)])\n",
      "/home/ozmitche/anaconda3/envs/tensorflow_cpu_old/lib/python3.5/site-packages/tensorflow/python/framework/dtypes.py:473: FutureWarning: Passing (type, 1) or '1type' as a synonym of type is deprecated; in a future version of numpy, it will be understood as (type, (1,)) / '(1,)type'.\n",
      "  _np_qint32 = np.dtype([(\"qint32\", np.int32, 1)])\n",
      "/home/ozmitche/anaconda3/envs/tensorflow_cpu_old/lib/python3.5/site-packages/tensorflow/python/framework/dtypes.py:476: FutureWarning: Passing (type, 1) or '1type' as a synonym of type is deprecated; in a future version of numpy, it will be understood as (type, (1,)) / '(1,)type'.\n",
      "  np_resource = np.dtype([(\"resource\", np.ubyte, 1)])\n"
     ]
    }
   ],
   "source": [
    "import numpy\n",
    "from keras.utils import np_utils\n",
    "from keras.callbacks import ModelCheckpoint\n",
    "\n",
    "import parsing_midi\n",
    "import models"
   ]
  },
  {
   "cell_type": "code",
   "execution_count": 2,
   "metadata": {},
   "outputs": [],
   "source": [
    "#number of training runs through model \n",
    "epochs = 200\n",
    "#size of batch of inputs per epoch\n",
    "epoch_size = 64\n",
    "#path to put the weight files\n",
    "weightpath = \"oivia_run_0\"\n",
    "#length of input sequence of notes to generate the next note\n",
    "sequence_length = 100"
   ]
  },
  {
   "cell_type": "code",
   "execution_count": 3,
   "metadata": {},
   "outputs": [],
   "source": [
    "#This section creates the set of output notes\n",
    "def prepare_sequence_out(notes, n_vocab):\n",
    "    # get all pitch names\n",
    "    pitchnames = sorted(set(item for item in notes))\n",
    "\n",
    "     # create a dictionary to map pitches to integers\n",
    "    note_to_int = dict((note, number) for number, note in enumerate(pitchnames))\n",
    "\n",
    "    network_output = []\n",
    "\n",
    "    # create the outputs\n",
    "    for i in range(0, len(notes) - sequence_length, 1):\n",
    "        sequence_out = notes[i + sequence_length]\n",
    "        network_output.append(note_to_int[sequence_out])\n",
    "\n",
    "    network_output = np_utils.to_categorical(network_output)\n",
    "\n",
    "    return network_output"
   ]
  },
  {
   "cell_type": "code",
   "execution_count": 4,
   "metadata": {},
   "outputs": [],
   "source": [
    "#This section trains the model\n",
    "def train(model, network_input, network_output):\n",
    "    #save checkpoints every epoch run\n",
    "    filepath = weightpath+\"weights-improvement-{epoch:02d}-{loss:.4f}-bigger.hdf5\"\n",
    "    checkpoint = ModelCheckpoint(\n",
    "        filepath,\n",
    "        monitor='loss',\n",
    "        verbose=0,\n",
    "        save_best_only=True,\n",
    "        mode='min'\n",
    "    )\n",
    "    callbacks_list = [checkpoint]\n",
    "\n",
    "    model.fit(network_input, network_output, epochs=epochs, batch_size=epoch_size, callbacks=callbacks_list)"
   ]
  },
  {
   "cell_type": "code",
   "execution_count": 5,
   "metadata": {},
   "outputs": [],
   "source": [
    "#Main function to cover grabbing the data to training the model\n",
    "#sets up parameters to train the network and then runs\n",
    "def train_network():\n",
    "    notes = parsing_midi.get_notes()\n",
    "\n",
    "    # get amount of pitch names\n",
    "    n_vocab = len(set(notes))\n",
    "\n",
    "    #get inputs and outputs\n",
    "    network_input, normalized_input = parsing_midi.prepare_sequence_in(notes, n_vocab, sequence_length)\n",
    "    network_output = prepare_sequence_out(notes, n_vocab)\n",
    "\n",
    "    model = models.create_lstm_network(normalized_input, n_vocab)\n",
    "\n",
    "    train(model, normalized_input, network_output)"
   ]
  },
  {
   "cell_type": "code",
   "execution_count": null,
   "metadata": {},
   "outputs": [
    {
     "name": "stdout",
     "output_type": "stream",
     "text": [
      "Epoch 1/200\n",
      "57077/57077 [==============================] - 6008s 105ms/step - loss: 6.5263\n",
      "Epoch 2/200\n",
      "57077/57077 [==============================] - 5980s 105ms/step - loss: 6.4431\n",
      "Epoch 3/200\n",
      "57077/57077 [==============================] - 5985s 105ms/step - loss: 6.4368\n",
      "Epoch 4/200\n",
      "57077/57077 [==============================] - 5968s 105ms/step - loss: 6.4375\n",
      "Epoch 5/200\n",
      "57077/57077 [==============================] - 5964s 104ms/step - loss: 6.4408\n",
      "Epoch 6/200\n",
      "57077/57077 [==============================] - 5963s 104ms/step - loss: 6.4396\n",
      "Epoch 7/200\n",
      "57077/57077 [==============================] - 5963s 104ms/step - loss: 6.4389\n",
      "Epoch 8/200\n",
      "57077/57077 [==============================] - 5983s 105ms/step - loss: 6.4400\n",
      "Epoch 9/200\n",
      "57077/57077 [==============================] - 5958s 104ms/step - loss: 6.4402\n",
      "Epoch 10/200\n",
      "57077/57077 [==============================] - 6059s 106ms/step - loss: 6.4372\n",
      "Epoch 11/200\n",
      "57077/57077 [==============================] - 5972s 105ms/step - loss: 6.4380\n",
      "Epoch 12/200\n",
      "57077/57077 [==============================] - 5959s 104ms/step - loss: 6.4373\n",
      "Epoch 13/200\n",
      "57077/57077 [==============================] - 6109s 107ms/step - loss: 6.4375\n",
      "Epoch 14/200\n",
      " 5568/57077 [=>............................] - ETA: 1:58:15 - loss: 6.4145"
     ]
    }
   ],
   "source": [
    "#if called from commandline, this should just try training the network\n",
    "#if called in a notebook, will just run\n",
    "if __name__ == '__main__':\n",
    "    train_network()"
   ]
  },
  {
   "cell_type": "code",
   "execution_count": null,
   "metadata": {},
   "outputs": [],
   "source": []
  },
  {
   "cell_type": "code",
   "execution_count": null,
   "metadata": {},
   "outputs": [],
   "source": []
  }
 ],
 "metadata": {
  "kernelspec": {
   "display_name": "Python 3",
   "language": "python",
   "name": "python3"
  },
  "language_info": {
   "codemirror_mode": {
    "name": "ipython",
    "version": 3
   },
   "file_extension": ".py",
   "mimetype": "text/x-python",
   "name": "python",
   "nbconvert_exporter": "python",
   "pygments_lexer": "ipython3",
   "version": "3.5.6"
  }
 },
 "nbformat": 4,
 "nbformat_minor": 4
}
