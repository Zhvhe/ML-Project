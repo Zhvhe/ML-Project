{
 "cells": [
  {
   "cell_type": "code",
   "execution_count": 1,
   "metadata": {},
   "outputs": [
    {
     "name": "stderr",
     "output_type": "stream",
     "text": [
      "Using TensorFlow backend.\n",
      "/home/ozmitche/anaconda3/envs/tensorflow_cpu_old/lib/python3.5/site-packages/tensorflow/python/framework/dtypes.py:469: FutureWarning: Passing (type, 1) or '1type' as a synonym of type is deprecated; in a future version of numpy, it will be understood as (type, (1,)) / '(1,)type'.\n",
      "  _np_qint8 = np.dtype([(\"qint8\", np.int8, 1)])\n",
      "/home/ozmitche/anaconda3/envs/tensorflow_cpu_old/lib/python3.5/site-packages/tensorflow/python/framework/dtypes.py:470: FutureWarning: Passing (type, 1) or '1type' as a synonym of type is deprecated; in a future version of numpy, it will be understood as (type, (1,)) / '(1,)type'.\n",
      "  _np_quint8 = np.dtype([(\"quint8\", np.uint8, 1)])\n",
      "/home/ozmitche/anaconda3/envs/tensorflow_cpu_old/lib/python3.5/site-packages/tensorflow/python/framework/dtypes.py:471: FutureWarning: Passing (type, 1) or '1type' as a synonym of type is deprecated; in a future version of numpy, it will be understood as (type, (1,)) / '(1,)type'.\n",
      "  _np_qint16 = np.dtype([(\"qint16\", np.int16, 1)])\n",
      "/home/ozmitche/anaconda3/envs/tensorflow_cpu_old/lib/python3.5/site-packages/tensorflow/python/framework/dtypes.py:472: FutureWarning: Passing (type, 1) or '1type' as a synonym of type is deprecated; in a future version of numpy, it will be understood as (type, (1,)) / '(1,)type'.\n",
      "  _np_quint16 = np.dtype([(\"quint16\", np.uint16, 1)])\n",
      "/home/ozmitche/anaconda3/envs/tensorflow_cpu_old/lib/python3.5/site-packages/tensorflow/python/framework/dtypes.py:473: FutureWarning: Passing (type, 1) or '1type' as a synonym of type is deprecated; in a future version of numpy, it will be understood as (type, (1,)) / '(1,)type'.\n",
      "  _np_qint32 = np.dtype([(\"qint32\", np.int32, 1)])\n",
      "/home/ozmitche/anaconda3/envs/tensorflow_cpu_old/lib/python3.5/site-packages/tensorflow/python/framework/dtypes.py:476: FutureWarning: Passing (type, 1) or '1type' as a synonym of type is deprecated; in a future version of numpy, it will be understood as (type, (1,)) / '(1,)type'.\n",
      "  np_resource = np.dtype([(\"resource\", np.ubyte, 1)])\n"
     ]
    }
   ],
   "source": [
    "import numpy as np\n",
    "from keras.models import Sequential\n",
    "from keras.layers import Dense, Dropout, LSTM, Activation"
   ]
  },
  {
   "cell_type": "code",
   "execution_count": 5,
   "metadata": {},
   "outputs": [],
   "source": [
    "#LSTM configurations settings\n",
    "\n",
    "#percentage of inputs dropped put pf model to prevent overfitting\n",
    "lstm_dropout = 0.3\n",
    "#number of LSTM nodes in the layer\n",
    "lstm_nodes = 512\n",
    "#the type of activation method we are using\n",
    "lstm_activation_method='softmax'\n",
    "#size of internal layers\n",
    "lstm_dense = 256\n",
    "#method of loss calculation\n",
    "lstm_loss='categorical_crossentropy'\n",
    "#method of optimization\n",
    "lstm_optimizer='rmsprop'"
   ]
  },
  {
   "cell_type": "code",
   "execution_count": 6,
   "metadata": {},
   "outputs": [],
   "source": [
    "#This creates a LSTM RNN\n",
    "def create_lstm_network(network_input, n_vocab):\n",
    "    #This is a sequential model\n",
    "    model = Sequential()\n",
    "    #Add a LSM layer that has a certain number of nodes, \n",
    "    #knows the shape of the input data,\n",
    "    #and is outputting something sequential\n",
    "    model.add(LSTM(\n",
    "        lstm_nodes,\n",
    "        input_shape=(network_input.shape[1], network_input.shape[2]),\n",
    "        return_sequences=True\n",
    "    ))\n",
    "    #This deliberatly looses part of the data to prevent overfitting\n",
    "    model.add(Dropout(lstm_dropout))\n",
    "    model.add(LSTM(lstm_nodes, return_sequences=True))\n",
    "    model.add(Dropout(lstm_dropout))\n",
    "    model.add(LSTM(lstm_nodes))\n",
    "    model.add(Dense(lstm_dense))\n",
    "    model.add(Dropout(lstm_dropout))\n",
    "    #This makes sure our output layer matches the number of possible outputs\n",
    "    model.add(Dense(n_vocab))\n",
    "    #activation method set here\n",
    "    model.add(Activation(lstm_activation_method))\n",
    "    model.compile(loss=lstm_loss, optimizer=lstm_optimizer)\n",
    "\n",
    "    return model"
   ]
  },
  {
   "cell_type": "code",
   "execution_count": null,
   "metadata": {},
   "outputs": [],
   "source": []
  }
 ],
 "metadata": {
  "kernelspec": {
   "display_name": "Python 3",
   "language": "python",
   "name": "python3"
  },
  "language_info": {
   "codemirror_mode": {
    "name": "ipython",
    "version": 3
   },
   "file_extension": ".py",
   "mimetype": "text/x-python",
   "name": "python",
   "nbconvert_exporter": "python",
   "pygments_lexer": "ipython3",
   "version": "3.5.6"
  }
 },
 "nbformat": 4,
 "nbformat_minor": 4
}
