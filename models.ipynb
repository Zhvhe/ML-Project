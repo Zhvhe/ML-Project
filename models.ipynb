{
 "cells": [
  {
   "cell_type": "code",
   "execution_count": 5,
   "metadata": {},
   "outputs": [],
   "source": [
    "import numpy as np\n",
    "from keras.models import Sequential\n",
    "from keras.layers import Dense, Dropout, LSTM, Activation\n",
    "from keras.layers import BatchNormalization"
   ]
  },
  {
   "cell_type": "code",
   "execution_count": 6,
   "metadata": {},
   "outputs": [],
   "source": [
    "#LSTM configurations settings\n",
    "\n",
    "#percentage of inputs dropped put pf model to prevent overfitting\n",
    "lstm_dropout = 0.3\n",
    "#number of LSTM nodes in the layer\n",
    "lstm_nodes = 512\n",
    "#the type of activation method we are using\n",
    "lstm_activation_method='softmax'\n",
    "#size of internal layers\n",
    "lstm_dense = 256\n",
    "#method of loss calculation\n",
    "lstm_loss='categorical_crossentropy'\n",
    "#method of optimization\n",
    "lstm_optimizer='rmsprop'"
   ]
  },
  {
   "cell_type": "code",
   "execution_count": 3,
   "metadata": {},
   "outputs": [],
   "source": [
    "##This creates a LSTM RNN\n",
    "#def create_lstm_network(network_input, n_vocab):\n",
    "#    #This is a sequential model\n",
    "#    model = Sequential()\n",
    "#    #Add a LSM layer that has a certain number of nodes, \n",
    "#    #knows the shape of the input data,\n",
    "#    #and is outputting something sequential\n",
    "#    model.add(LSTM(\n",
    "#        lstm_nodes,\n",
    "#        input_shape=(network_input.shape[1], network_input.shape[2]),\n",
    "#        return_sequences=True\n",
    "#    ))\n",
    "#    #This deliberatly looses part of the data to prevent overfitting\n",
    "#    model.add(Dropout(lstm_dropout))\n",
    "#    model.add(LSTM(lstm_nodes, return_sequences=True))\n",
    "#    model.add(Dropout(lstm_dropout))\n",
    "#    model.add(LSTM(lstm_nodes))\n",
    "#    model.add(Dense(lstm_dense))\n",
    "#    model.add(Dropout(lstm_dropout))\n",
    "#    #This makes sure our output layer matches the number of possible outputs\n",
    "#    model.add(Dense(n_vocab))\n",
    "#    #activation method set here\n",
    "#    model.add(Activation(lstm_activation_method))\n",
    "#    model.compile(loss=lstm_loss, optimizer=lstm_optimizer)\n",
    "#\n",
    "#    return model"
   ]
  },
  {
   "cell_type": "code",
   "execution_count": 8,
   "metadata": {},
   "outputs": [],
   "source": [
    "#This creates a LSTM RNN with batch\n",
    "def create_lstm_network_with_batch(network_input, n_vocab):\n",
    "    #This is a sequential model\n",
    "    model = Sequential()\n",
    "    #Add a LSM layer that has a certain number of nodes, \n",
    "    #knows the shape of the input data,\n",
    "    #and is outputting something sequential\n",
    "    model.add(LSTM(\n",
    "        lstm_nodes,\n",
    "        input_shape=(network_input.shape[1], network_input.shape[2]),\n",
    "        recurrent_dropout=lstm_dropout,\n",
    "        return_sequences=True\n",
    "    ))\n",
    "    #This deliberatly looses part of the data to prevent overfitting\n",
    "    model.add(LSTM(lstm_nodes, return_sequences=True, recurrent_dropout=lstm_dropout))\n",
    "    model.add(LSTM(lstm_nodes))\n",
    "    model.add(BatchNormalization())\n",
    "    model.add(Dropout(lstm_dropout))\n",
    "    model.add(Dense(lstm_dense))\n",
    "    model.add(Activation('relu'))\n",
    "    model.add(BatchNormalization())\n",
    "    model.add(Dropout(lstm_dropout))\n",
    "    #This makes sure our output layer matches the number of possible outputs\n",
    "    model.add(Dense(n_vocab))\n",
    "    #activation method set here\n",
    "    model.add(Activation(lstm_activation_method))\n",
    "    model.compile(loss=lstm_loss, optimizer=lstm_optimizer)\n",
    "\n",
    "    return model"
   ]
  },
  {
   "cell_type": "code",
   "execution_count": null,
   "metadata": {},
   "outputs": [],
   "source": []
  }
 ],
 "metadata": {
  "kernelspec": {
   "display_name": "Python 3",
   "language": "python",
   "name": "python3"
  },
  "language_info": {
   "codemirror_mode": {
    "name": "ipython",
    "version": 3
   },
   "file_extension": ".py",
   "mimetype": "text/x-python",
   "name": "python",
   "nbconvert_exporter": "python",
   "pygments_lexer": "ipython3",
   "version": "3.5.6"
  }
 },
 "nbformat": 4,
 "nbformat_minor": 4
}
